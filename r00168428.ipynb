{
 "cells": [
  {
   "cell_type": "code",
   "execution_count": 3,
   "metadata": {},
   "outputs": [
    {
     "name": "stdout",
     "output_type": "stream",
     "text": [
      "Name: Daniel Ashcroft \n",
      "Student ID: r00168428\n"
     ]
    },
    {
     "data": {
      "text/plain": [
       "' Your Name and Your student ID: \\nDaniel Ashcroft\\nr00168428\\n'"
      ]
     },
     "execution_count": 3,
     "metadata": {},
     "output_type": "execute_result"
    }
   ],
   "source": [
    "\"\"\"\n",
    "author Daniel\n",
    "\"\"\"\n",
    "from pandas import read_csv\n",
    "import numpy as np\n",
    "from pandas.plotting import scatter_matrix\n",
    "from matplotlib import pyplot\n",
    "from sklearn.model_selection import train_test_split\n",
    "from sklearn.model_selection import cross_val_score\n",
    "from sklearn.model_selection import StratifiedKFold\n",
    "from sklearn.metrics import classification_report\n",
    "from sklearn.metrics import confusion_matrix\n",
    "from sklearn.metrics import accuracy_score\n",
    "from sklearn.linear_model import LogisticRegression\n",
    "from sklearn.tree import DecisionTreeClassifier\n",
    "from sklearn.neighbors import KNeighborsClassifier\n",
    "from sklearn.preprocessing import KBinsDiscretizer\n",
    "from sklearn.discriminant_analysis import LinearDiscriminantAnalysis\n",
    "from sklearn.naive_bayes import GaussianNB\n",
    "from sklearn.svm import SVC\n",
    "from sklearn.tree import DecisionTreeClassifier\n",
    "from sklearn.ensemble import RandomForestClassifier\n",
    "from sklearn.preprocessing import LabelEncoder\n",
    "from io import StringIO\n",
    "from sklearn import linear_model\n",
    "import pandas as pd\n",
    "from sklearn.cluster import KMeans\n",
    "from sklearn.metrics import accuracy_score\n",
    "from sklearn.metrics import mean_squared_error\n",
    "import matplotlib.pyplot as plt\n",
    "\n",
    "print(\"Name: Daniel Ashcroft \\nStudent ID: r00168428\")\n",
    "#Note: Not all the libararies above are necessarily needed for this project and not all \n",
    "#the libraries you need for this project are necessarily listed above.\n",
    "\n",
    "\n",
    "\"\"\" Your Name and Your student ID: \n",
    "Daniel Ashcroft\n",
    "r00168428\n",
    "\"\"\""
   ]
  },
  {
   "cell_type": "code",
   "execution_count": 4,
   "metadata": {},
   "outputs": [],
   "source": [
    "\n",
    "# def task1():\n",
    "#     print(\"--------task1--------\")\n",
    "#     bank = pd.read_csv(\"bank.csv\")\n",
    "#     task1_dataset1_csv_file_name = \"task1_dataset1.csv\"\n",
    "#     task1_dataset2_csv_file_name = \"task1_dataset2.csv\"\n",
    "#     # creates and saves the first data set\n",
    "# #     dataset1 = bank[[\"age\",\"job\",\"poutcome\",\"balance\",\"default\",\"y\"]]  \n",
    "# #     dataset1.to_csv(task1_dataset1_csv_file_name)\n",
    "# #     print(\"dataset1 saved to file as\", task1_dataset1_csv_file_name)\n",
    "\n",
    "#     # creates and saves the second data set\n",
    "# #     dataset2 = bank[[\"age\",\"job\",\"poutcome\",\"balance\",\"default\",\"loan\"]]\n",
    "# #     dataset2.to_csv(task1_dataset2_csv_file_name)\n",
    "# #     print(\"dataset2 saved to file as\", task1_dataset2_csv_file_name)\n",
    "    \n",
    "    \n",
    "    \n",
    "#     dataset1 = pd.read_csv(task1_dataset1_csv_file_name)\n",
    "#     print(dataset1)\n",
    "#     dataset2 = pd.read_csv(task1_dataset2_csv_file_name)\n",
    "#     print(dataset2)\n",
    "    \n",
    "# #     Xdateset1 = dataset1.loc[:, dataset1.columns != 'y']\n",
    "#     Xdataset1_catg_cols = [\"job\",\"poutcome\",\"default\"]\n",
    "#     Xdataset1_cols = [\"age\",\"job\",\"poutcome\",\"balance\",\"default\"]\n",
    "# #     Xdateset1_catg_cols = dataset1[dataset1_catg_cols]\n",
    "#     Xdateset1 = dataset1[Xdataset1_cols]\n",
    "    \n",
    "#     le = LabelEncoder()\n",
    "    \n",
    "#     # this will encode the data from the columns with categorical data\n",
    "#     Xdateset1[Xdataset1_catg_cols] = Xdateset1[Xdataset1_catg_cols].apply(lambda col: le.fit_transform(col))\n",
    "#     ydataset1 = dataset1['y']\n",
    "#     print(Xdateset1)\n",
    "#     print(ydataset1)\n",
    "    \n",
    "#     Xdateset100 = Xdateset1\n",
    "    \n",
    "#     clf = SVC()\n",
    "#     clf.set_params(kernel='linear')\n",
    "#     print(\"type(Xdateset1.head(5):\",type(Xdateset1.head(5)))\n",
    "    \n",
    "#     clf.fit(Xdateset1.head(100),ydataset1.head(100))\n",
    "    \n",
    "#     myclf =clf\n",
    "    \n",
    "    \n",
    "#     print(\"end task1\")\n",
    "# #     myclf = clf\n",
    "# #     print(clf.predict(Xdateset1.head()))\n",
    "    \n",
    "    \n",
    "    \n",
    "    \n",
    "    \n",
    "# task1()\n",
    "\n",
    "# print(myclf)"
   ]
  },
  {
   "cell_type": "code",
   "execution_count": 5,
   "metadata": {},
   "outputs": [
    {
     "name": "stdout",
     "output_type": "stream",
     "text": [
      "--------task1--------\n",
      "data set1:\n",
      "        Unnamed: 0  age           job poutcome  balance default    y\n",
      "0               0   58    management  unknown     2143      no   no\n",
      "1               1   44    technician  unknown       29      no   no\n",
      "2               2   33  entrepreneur  unknown        2      no   no\n",
      "3               3   47   blue-collar  unknown     1506      no   no\n",
      "4               4   33       unknown  unknown        1      no   no\n",
      "...           ...  ...           ...      ...      ...     ...  ...\n",
      "45206       45206   51    technician  unknown      825      no  yes\n",
      "45207       45207   71       retired  unknown     1729      no  yes\n",
      "45208       45208   72       retired  success     5715      no  yes\n",
      "45209       45209   57   blue-collar  unknown      668      no   no\n",
      "45210       45210   37  entrepreneur    other     2971      no   no\n",
      "\n",
      "[45211 rows x 7 columns]\n",
      "\n",
      "\n",
      "data set2 (same as the 1):\n",
      "        Unnamed: 0  age           job poutcome  balance default loan\n",
      "0               0   58    management  unknown     2143      no   no\n",
      "1               1   44    technician  unknown       29      no   no\n",
      "2               2   33  entrepreneur  unknown        2      no  yes\n",
      "3               3   47   blue-collar  unknown     1506      no   no\n",
      "4               4   33       unknown  unknown        1      no   no\n",
      "...           ...  ...           ...      ...      ...     ...  ...\n",
      "45206       45206   51    technician  unknown      825      no   no\n",
      "45207       45207   71       retired  unknown     1729      no   no\n",
      "45208       45208   72       retired  success     5715      no   no\n",
      "45209       45209   57   blue-collar  unknown      668      no   no\n",
      "45210       45210   37  entrepreneur    other     2971      no   no\n",
      "\n",
      "[45211 rows x 7 columns]\n"
     ]
    },
    {
     "name": "stderr",
     "output_type": "stream",
     "text": [
      "C:\\Users\\Dashc\\Anaconda3\\envs\\tensorflow\\lib\\site-packages\\pandas\\core\\frame.py:3509: SettingWithCopyWarning: \n",
      "A value is trying to be set on a copy of a slice from a DataFrame.\n",
      "Try using .loc[row_indexer,col_indexer] = value instead\n",
      "\n",
      "See the caveats in the documentation: http://pandas.pydata.org/pandas-docs/stable/user_guide/indexing.html#returning-a-view-versus-a-copy\n",
      "  self[k1] = value[k2]\n"
     ]
    },
    {
     "name": "stdout",
     "output_type": "stream",
     "text": [
      "\n",
      "\n",
      "Our data set X value encoded:\n",
      "        age  job  poutcome  balance  default\n",
      "0       58    4         3     2143        0\n",
      "1       44    9         3       29        0\n",
      "2       33    2         3        2        0\n",
      "3       47    1         3     1506        0\n",
      "4       33   11         3        1        0\n",
      "...    ...  ...       ...      ...      ...\n",
      "45206   51    9         3      825        0\n",
      "45207   71    5         3     1729        0\n",
      "45208   72    5         2     5715        0\n",
      "45209   57    1         3      668        0\n",
      "45210   37    2         1     2971        0\n",
      "\n",
      "[45211 rows x 5 columns]\n",
      "\n",
      "Our y class atribute:\n",
      " 0         no\n",
      "1         no\n",
      "2         no\n",
      "3         no\n",
      "4         no\n",
      "        ... \n",
      "45206    yes\n",
      "45207    yes\n",
      "45208    yes\n",
      "45209     no\n",
      "45210     no\n",
      "Name: y, Length: 45211, dtype: object\n",
      "\n",
      "\n",
      "accuracy_score for SVM with first data set:\n",
      " 0.97\n",
      "\n",
      "\n",
      "accuracy_score for SVM with second data set:\n",
      " 0.79\n",
      "\n",
      "\n",
      "Conclusion:\n",
      "The data needed to be encoded\n",
      "The first the data set with the y as there classifier has a slight higher accuracy\n",
      "\n",
      "Possible error: We can see  for loan predictions especially that our models seem to use 'no' much more than 'yes' than needed\n",
      "amount of value counts for y predictions:\n",
      " no    100\n",
      "dtype: int64\n",
      "amount of value counts for y actual:\n",
      " no     39922\n",
      "yes     5289\n",
      "Name: y, dtype: int64\n",
      "amount of value counts for loan predictions:\n",
      " no    100\n",
      "dtype: int64\n",
      "amount of value counts for loan actual:\n",
      " no     37967\n",
      "yes     7244\n",
      "Name: loan, dtype: int64\n",
      "--------end task1--------\n"
     ]
    }
   ],
   "source": [
    "\n",
    "def task1():\n",
    "    \"\"\"\n",
    "    The data needed to be encoded.\n",
    "    I saved both datasets but I actually just reused the X as they are the same.\n",
    "    The first model with y instead of loan was more accurate. They to use 'no' a lot more than needed.\n",
    "    \"\"\"\n",
    "    print(\"--------task1--------\")\n",
    "    bank = pd.read_csv(\"bank.csv\")\n",
    "    task1_dataset1_csv_file_name = \"task1_dataset1.csv\"\n",
    "    task1_dataset2_csv_file_name = \"task1_dataset2.csv\"\n",
    "    \n",
    "    \n",
    "    # creates and saves the first data set\n",
    "\n",
    "    #     dataset1 = bank[[\"age\",\"job\",\"poutcome\",\"balance\",\"default\",\"y\"]]  \n",
    "    #     dataset1.to_csv(task1_dataset1_csv_file_name)\n",
    "    #     print(\"dataset1 saved to file as\", task1_dataset1_csv_file_name)\n",
    "\n",
    "    # creates and saves the second data set\n",
    "    \n",
    "    #     dataset2 = bank[[\"age\",\"job\",\"poutcome\",\"balance\",\"default\",\"loan\"]]\n",
    "    #     dataset2.to_csv(task1_dataset2_csv_file_name)\n",
    "    #     print(\"dataset2 saved to file as\", task1_dataset2_csv_file_name)\n",
    "\n",
    "    \n",
    "    \n",
    "\n",
    "    #gets the data and shows it\n",
    "    dataset1 = pd.read_csv(task1_dataset1_csv_file_name)\n",
    "    print(\"data set1:\\n\",dataset1)\n",
    "    dataset2 = pd.read_csv(task1_dataset2_csv_file_name)\n",
    "    print(\"\\n\\ndata set2 (same as the 1):\\n\",dataset2)\n",
    "\n",
    "    #which columns are categorical\n",
    "    Xdataset_catg_cols = [\"job\",\"poutcome\",\"default\"]\n",
    "    # all columns\n",
    "    Xdataset_cols = [\"age\",\"job\",\"poutcome\",\"balance\",\"default\"]\n",
    "    X = dataset1[Xdataset_cols]\n",
    "\n",
    "    # this will encode the data from the columns with categorical data\n",
    "    le = LabelEncoder()\n",
    "    X[Xdataset_catg_cols] = X[Xdataset_catg_cols].apply(lambda col: le.fit_transform(col))\n",
    "\n",
    "    # data set 1s y class atribute\n",
    "    ydataset1 = dataset1['y']\n",
    "    \n",
    "    print(\"\\n\\nOur data set X value encoded:\\n\",X)\n",
    "    print(\"\\nOur y class atribute:\\n\",ydataset1)\n",
    "\n",
    "    # using svm for classification algorithm\n",
    "    clf_y = SVC()\n",
    "    clf_y.set_params(kernel='linear')\n",
    "\n",
    "    clf_y.fit(X.head(100),ydataset1.head(100))\n",
    "#     clf_y.fit(X,ydataset1)\n",
    "\n",
    "    y_predictions = clf_y.predict(X.head(100))\n",
    "    y_predictions_as_series = pd.Series(y_predictions)\n",
    "    test_labels1 = ydataset1.head(100)\n",
    "\n",
    "    res1 = accuracy_score(test_labels1, y_predictions_as_series)\n",
    "    print(\"\\n\\naccuracy_score for SVM with first data set:\\n\",res1)\n",
    "    #it only gives  NOs\n",
    "    \n",
    "    # data set 2s loan class attribute\n",
    "    loan_dataset2 = dataset2['loan']\n",
    "\n",
    "    clf_loan = SVC()\n",
    "    clf_loan.set_params(kernel='linear')\n",
    "    clf_loan.fit(X.head(100),loan_dataset2.head(100))\n",
    "#     clf_loan.fit(X,loan_dataset2)\n",
    "    loan_predictions = clf_y.predict(X.head(100))\n",
    "    loan_predictions_as_series = pd.Series(loan_predictions)\n",
    "\n",
    "    test_labels2 = loan_dataset2.head(100)\n",
    "\n",
    "    res1 = accuracy_score(test_labels2, loan_predictions_as_series)\n",
    "    print(\"\\n\\naccuracy_score for SVM with second data set:\\n\",res1)\n",
    "    \n",
    "    \n",
    "    print()\n",
    "    print()\n",
    "    print(\"Conclusion:\")\n",
    "    print(\"The data needed to be encoded\")\n",
    "    print(\"The first the data set with the y as there classifier has a slight higher accuracy\")\n",
    "    \n",
    "    print()\n",
    "    print(\"Possible error: We can see  for loan predictions especially that our models seem to use 'no' much more than 'yes' than needed\")\n",
    "    print(\"amount of value counts for y predictions:\\n\",y_predictions_as_series.value_counts())\n",
    "    print(\"amount of value counts for y actual:\\n\",ydataset1.value_counts())\n",
    "    print(\"amount of value counts for loan predictions:\\n\",loan_predictions_as_series.value_counts())\n",
    "    print(\"amount of value counts for loan actual:\\n\",loan_dataset2.value_counts())\n",
    "    \n",
    "\n",
    "#0.8829709583950809 is less than 0.8398177434695097\n",
    "# class attribute with y has a higher accuracy score\n",
    "    \n",
    "    \n",
    "\n",
    "    print(\"--------end task1--------\")\n",
    "\n",
    "\n",
    "\n",
    "\n",
    "\n",
    "\n",
    "task1()"
   ]
  },
  {
   "cell_type": "code",
   "execution_count": 6,
   "metadata": {},
   "outputs": [
    {
     "name": "stdout",
     "output_type": "stream",
     "text": [
      "--------task2--------\n",
      "dataset saved\n",
      "       age   marital\n",
      "0       58   married\n",
      "1       44    single\n",
      "2       33   married\n",
      "3       47   married\n",
      "4       33    single\n",
      "...    ...       ...\n",
      "45206   51   married\n",
      "45207   71  divorced\n",
      "45208   72   married\n",
      "45209   57   married\n",
      "45210   37   married\n",
      "\n",
      "[45211 rows x 2 columns]\n",
      "['married' 'single' 'divorced']\n",
      "count    45211.000000\n",
      "mean        40.936210\n",
      "std         10.618762\n",
      "min         18.000000\n",
      "25%         33.000000\n",
      "50%         39.000000\n",
      "75%         48.000000\n",
      "max         95.000000\n",
      "Name: age, dtype: float64\n"
     ]
    },
    {
     "data": {
      "image/png": "[encoded data removed]",
      "text/plain": [
       "<Figure size 432x288 with 1 Axes>"
      ]
     },
     "metadata": {
      "needs_background": "light"
     },
     "output_type": "display_data"
    },
    {
     "name": "stdout",
     "output_type": "stream",
     "text": [
      "We can see elbow at 3, the optimal number cluster\n",
      "reference, used this post on medium: https://blog.cambridgespark.com/how-to-determine-the-optimal-number-of-clusters-for-k-means-clustering-14f27070048f\n",
      "--------end task2--------\n"
     ]
    }
   ],
   "source": [
    "def task2():\n",
    "    '''\n",
    "    used this post on medium: https://blog.cambridgespark.com/how-to-determine-the-optimal-number-of-clusters-for-k-means-clustering-14f27070048f\n",
    "    I used the elbow method here to visualise which is the best\n",
    "    The optimal number of clusters is 3\n",
    "    '''\n",
    "    print(\"--------task2--------\")\n",
    "\n",
    "    # for creating and saving the data set.\n",
    "\n",
    "    bank = pd.read_csv(\"bank.csv\")\n",
    "    task2_dataset_csv_file_name = \"task2_dataset.csv\"\n",
    "    task2_dataset_cols = [\"age\",\"marital\"]\n",
    "    dataset = bank[task2_dataset_cols]\n",
    "    dataset.to_csv(task2_dataset_csv_file_name)\n",
    "    print(\"dataset saved\")\n",
    "\n",
    "    # reads data, excluding the row number\n",
    "\n",
    "    dataset = pd.read_csv(task2_dataset_csv_file_name)[task2_dataset_cols]\n",
    "    print(dataset)\n",
    "\n",
    "    # we are going to encode the marital categorical data \n",
    "    print(dataset.marital.unique())\n",
    "\n",
    "    le = LabelEncoder()\n",
    "    dataset.marital = le.fit_transform(dataset.marital)\n",
    "\n",
    "    print(dataset.age.describe())\n",
    "    Sum_of_squared_distances = []\n",
    "    K = range(1,12)\n",
    "    for k in K:\n",
    "        km = KMeans(n_clusters=k)\n",
    "        km = km.fit(dataset)\n",
    "        Sum_of_squared_distances.append(km.inertia_)\n",
    "\n",
    "\n",
    "    plt.plot(K, Sum_of_squared_distances, 'x-')\n",
    "    plt.xlabel('k the number of clusters')\n",
    "    plt.ylabel('Sum of the squared distances')\n",
    "    plt.title('Elbow Method For Optimal k. (Example found on medium reference and link in top and bottom comment of task)')\n",
    "    plt.legend([\"sum of sq dist for different k\"])\n",
    "    plt.show()\n",
    "\n",
    "    print(\"We can see elbow at 3, the optimal number cluster\")\n",
    "    print(\"reference, used this post on medium: https://blog.cambridgespark.com/how-to-determine-the-optimal-number-of-clusters-for-k-means-clustering-14f27070048f\")\n",
    "\n",
    "\n",
    "    print(\"--------end task2--------\")\n",
    "\n",
    "task2()"
   ]
  },
  {
   "cell_type": "code",
   "execution_count": 7,
   "metadata": {},
   "outputs": [
    {
     "name": "stdout",
     "output_type": "stream",
     "text": [
      "--------task3--------\n",
      "dataset saved\n",
      "[0.76, 0.61, 0.46, 0.42, 0.41, 0.45, 0.36, 0.32, 0.31, 0.36, 0.26, 0.32, 0.25]\n"
     ]
    },
    {
     "data": {
      "image/png": "[encoded data removed]",
      "text/plain": [
       "<Figure size 432x288 with 1 Axes>"
      ]
     },
     "metadata": {
      "needs_background": "light"
     },
     "output_type": "display_data"
    },
    {
     "name": "stdout",
     "output_type": "stream",
     "text": [
      "The highest accuracy score is with 2 buckets\n",
      "------end task3------\n"
     ]
    }
   ],
   "source": [
    "def task3():\n",
    "    \"\"\"\n",
    "    Testing the accuracy with SVM for a range of bucket amounts\n",
    "    \"\"\"\n",
    "    print(\"--------task3--------\")\n",
    "\n",
    "    # for creating and saving the data set.\n",
    "    bank = pd.read_csv(\"bank.csv\")\n",
    "    task3_dataset_csv_file_name = \"task3_dataset.csv\"\n",
    "    task3_dataset_cols = [\"y\",\"loan\",\"bank_arg1\"]\n",
    "    dataset = bank[task3_dataset_cols]\n",
    "    dataset.to_csv(task3_dataset_csv_file_name)\n",
    "    print(\"dataset saved\")\n",
    "\n",
    "    # reads data, excluding the row number\n",
    "\n",
    "    dataset = pd.read_csv(task3_dataset_csv_file_name)[task3_dataset_cols]\n",
    "    dataset_catg_cols = [\"y\",\"loan\"]\n",
    "\n",
    "    # this will encode the data from the columns with categorical data\n",
    "    le = LabelEncoder()\n",
    "    dataset[dataset_catg_cols] = dataset[dataset_catg_cols].apply(lambda col: le.fit_transform(col))\n",
    "\n",
    "    scores = []\n",
    "\n",
    "    # testing with range of buckets\n",
    "    range_number_of_buckets = range(2,15)\n",
    "    for number_of_buckets in range_number_of_buckets:\n",
    "        temp_dataset = dataset.copy()\n",
    "\n",
    "        #bucketing\n",
    "        temp_dataset[\"bank_arg1\"] = pd.qcut(dataset[\"bank_arg1\"],number_of_buckets,labels=False)\n",
    "        # enc = KBinsDiscretizer(n_bins=10, encode='onehot')\n",
    "\n",
    "\n",
    "        y = temp_dataset[\"bank_arg1\"]\n",
    "        X = temp_dataset[[\"y\",\"loan\"]]\n",
    "\n",
    "        # X_binned = enc.fit_transform(X)\n",
    "\n",
    "    \n",
    "        clf = SVC()\n",
    "        clf.set_params(kernel='linear')\n",
    "        clf.fit(X.head(100),y.head(100))\n",
    "        y_predictions = pd.Series(clf.predict(X.head(100)))\n",
    "        score = accuracy_score(y.head(100), y_predictions)\n",
    "        scores.append(score)\n",
    "    #     print(scores)\n",
    "\n",
    "\n",
    "    print(scores)\n",
    "    plt.plot(range_number_of_buckets, scores, 'x-')\n",
    "    plt.xlabel('number of buckets')\n",
    "    plt.ylabel('accuracy score')\n",
    "    plt.title('The accuracy score for different buckets')\n",
    "    plt.legend([\"accuracy score\"])\n",
    "    plt.show()\n",
    "\n",
    "    print(\"The highest accuracy score is with 2 buckets\")\n",
    "\n",
    "    print(\"------end task3------\")\n",
    "task3()"
   ]
  },
  {
   "cell_type": "code",
   "execution_count": 8,
   "metadata": {},
   "outputs": [
    {
     "name": "stdout",
     "output_type": "stream",
     "text": [
      "--------task4--------\n",
      "dataset saved\n",
      "       age           job   marital  education loan    y\n",
      "0       58    management   married   tertiary   no   no\n",
      "1       44    technician    single  secondary   no   no\n",
      "2       33  entrepreneur   married  secondary  yes   no\n",
      "3       47   blue-collar   married    unknown   no   no\n",
      "4       33       unknown    single    unknown   no   no\n",
      "...    ...           ...       ...        ...  ...  ...\n",
      "45206   51    technician   married   tertiary   no  yes\n",
      "45207   71       retired  divorced    primary   no  yes\n",
      "45208   72       retired   married  secondary   no  yes\n",
      "45209   57   blue-collar   married  secondary   no   no\n",
      "45210   37  entrepreneur   married  secondary   no   no\n",
      "\n",
      "[45211 rows x 6 columns]\n",
      "       age  job  marital  education  loan\n",
      "0       58    4        1          2     0\n",
      "1       44    9        2          1     0\n",
      "2       33    2        1          1     1\n",
      "3       47    1        1          3     0\n",
      "4       33   11        2          3     0\n",
      "...    ...  ...      ...        ...   ...\n",
      "45206   51    9        1          2     0\n",
      "45207   71    5        0          0     0\n",
      "45208   72    5        1          1     0\n",
      "45209   57    1        1          1     0\n",
      "45210   37    2        1          1     0\n",
      "\n",
      "[45211 rows x 5 columns]\n",
      "45211\n",
      "1808\n",
      "[('KNN', KNeighborsClassifier(algorithm='auto', leaf_size=30, metric='minkowski',\n",
      "                     metric_params=None, n_jobs=None, n_neighbors=5, p=2,\n",
      "                     weights='uniform')), ('CART', DecisionTreeClassifier(class_weight=None, criterion='gini', max_depth=None,\n",
      "                       max_features=None, max_leaf_nodes=None,\n",
      "                       min_impurity_decrease=0.0, min_impurity_split=None,\n",
      "                       min_samples_leaf=1, min_samples_split=2,\n",
      "                       min_weight_fraction_leaf=0.0, presort=False,\n",
      "                       random_state=None, splitter='best')), ('NB', GaussianNB(priors=None, var_smoothing=1e-09)), ('SVM', SVC(C=1.0, cache_size=200, class_weight=None, coef0=0.0,\n",
      "    decision_function_shape='ovr', degree=3, gamma='auto', kernel='rbf',\n",
      "    max_iter=-1, probability=False, random_state=None, shrinking=True,\n",
      "    tol=0.001, verbose=False)), ('RF', RandomForestClassifier(bootstrap=True, class_weight=None, criterion='gini',\n",
      "                       max_depth=2, max_features='auto', max_leaf_nodes=None,\n",
      "                       min_impurity_decrease=0.0, min_impurity_split=None,\n",
      "                       min_samples_leaf=1, min_samples_split=2,\n",
      "                       min_weight_fraction_leaf=0.0, n_estimators='warn',\n",
      "                       n_jobs=None, oob_score=False, random_state=0, verbose=0,\n",
      "                       warm_start=False))]\n"
     ]
    },
    {
     "name": "stderr",
     "output_type": "stream",
     "text": [
      "C:\\Users\\Dashc\\Anaconda3\\envs\\tensorflow\\lib\\site-packages\\pandas\\core\\frame.py:3509: SettingWithCopyWarning: \n",
      "A value is trying to be set on a copy of a slice from a DataFrame.\n",
      "Try using .loc[row_indexer,col_indexer] = value instead\n",
      "\n",
      "See the caveats in the documentation: http://pandas.pydata.org/pandas-docs/stable/user_guide/indexing.html#returning-a-view-versus-a-copy\n",
      "  self[k1] = value[k2]\n"
     ]
    },
    {
     "name": "stdout",
     "output_type": "stream",
     "text": [
      "KNN: 0.976227 (0.002423)\n",
      "CART: 0.959628 (0.006075)\n",
      "NB: 0.976227 (0.002423)\n",
      "SVM: 0.976227 (0.002423)\n"
     ]
    },
    {
     "name": "stderr",
     "output_type": "stream",
     "text": [
      "C:\\Users\\Dashc\\Anaconda3\\envs\\tensorflow\\lib\\site-packages\\sklearn\\ensemble\\forest.py:245: FutureWarning: The default value of n_estimators will change from 10 in version 0.20 to 100 in 0.22.\n",
      "  \"10 in version 0.20 to 100 in 0.22.\", FutureWarning)\n",
      "C:\\Users\\Dashc\\Anaconda3\\envs\\tensorflow\\lib\\site-packages\\sklearn\\ensemble\\forest.py:245: FutureWarning: The default value of n_estimators will change from 10 in version 0.20 to 100 in 0.22.\n",
      "  \"10 in version 0.20 to 100 in 0.22.\", FutureWarning)\n",
      "C:\\Users\\Dashc\\Anaconda3\\envs\\tensorflow\\lib\\site-packages\\sklearn\\ensemble\\forest.py:245: FutureWarning: The default value of n_estimators will change from 10 in version 0.20 to 100 in 0.22.\n",
      "  \"10 in version 0.20 to 100 in 0.22.\", FutureWarning)\n",
      "C:\\Users\\Dashc\\Anaconda3\\envs\\tensorflow\\lib\\site-packages\\sklearn\\ensemble\\forest.py:245: FutureWarning: The default value of n_estimators will change from 10 in version 0.20 to 100 in 0.22.\n",
      "  \"10 in version 0.20 to 100 in 0.22.\", FutureWarning)\n",
      "C:\\Users\\Dashc\\Anaconda3\\envs\\tensorflow\\lib\\site-packages\\sklearn\\ensemble\\forest.py:245: FutureWarning: The default value of n_estimators will change from 10 in version 0.20 to 100 in 0.22.\n",
      "  \"10 in version 0.20 to 100 in 0.22.\", FutureWarning)\n",
      "C:\\Users\\Dashc\\Anaconda3\\envs\\tensorflow\\lib\\site-packages\\sklearn\\ensemble\\forest.py:245: FutureWarning: The default value of n_estimators will change from 10 in version 0.20 to 100 in 0.22.\n",
      "  \"10 in version 0.20 to 100 in 0.22.\", FutureWarning)\n",
      "C:\\Users\\Dashc\\Anaconda3\\envs\\tensorflow\\lib\\site-packages\\sklearn\\ensemble\\forest.py:245: FutureWarning: The default value of n_estimators will change from 10 in version 0.20 to 100 in 0.22.\n",
      "  \"10 in version 0.20 to 100 in 0.22.\", FutureWarning)\n",
      "C:\\Users\\Dashc\\Anaconda3\\envs\\tensorflow\\lib\\site-packages\\sklearn\\ensemble\\forest.py:245: FutureWarning: The default value of n_estimators will change from 10 in version 0.20 to 100 in 0.22.\n",
      "  \"10 in version 0.20 to 100 in 0.22.\", FutureWarning)\n",
      "C:\\Users\\Dashc\\Anaconda3\\envs\\tensorflow\\lib\\site-packages\\sklearn\\ensemble\\forest.py:245: FutureWarning: The default value of n_estimators will change from 10 in version 0.20 to 100 in 0.22.\n",
      "  \"10 in version 0.20 to 100 in 0.22.\", FutureWarning)\n",
      "C:\\Users\\Dashc\\Anaconda3\\envs\\tensorflow\\lib\\site-packages\\sklearn\\ensemble\\forest.py:245: FutureWarning: The default value of n_estimators will change from 10 in version 0.20 to 100 in 0.22.\n",
      "  \"10 in version 0.20 to 100 in 0.22.\", FutureWarning)\n"
     ]
    },
    {
     "name": "stdout",
     "output_type": "stream",
     "text": [
      "RF: 0.976227 (0.002423)\n"
     ]
    },
    {
     "data": {
      "image/png": "[encoded data removed]",
      "text/plain": [
       "<Figure size 432x288 with 1 Axes>"
      ]
     },
     "metadata": {
      "needs_background": "light"
     },
     "output_type": "display_data"
    },
    {
     "data": {
      "image/png": "[encoded data removed]",
      "text/plain": [
       "<Figure size 432x288 with 1 Axes>"
      ]
     },
     "metadata": {
      "needs_background": "light"
     },
     "output_type": "display_data"
    },
    {
     "name": "stdout",
     "output_type": "stream",
     "text": [
      "It seems DecisionTreeClassifier is the worst\n",
      "SVM is very slow to fit\n",
      "KNeighborsClassifier, GaussianNB or RandomForestClassifier are good depending on what you want to do\n",
      "------end task4------\n"
     ]
    }
   ],
   "source": [
    "def task4():\n",
    "    \"\"\"\n",
    "    It seems DecisionTreeClassifier has the worst accuracy and has a higher standard deviation\n",
    "    SVM is very slow to fit\n",
    "    KNeighborsClassifier, GaussianNB or RandomForestClassifier are good depending on what you want to do\n",
    "    \"\"\"\n",
    "    print(\"--------task4--------\")\n",
    "    bank = pd.read_csv(\"bank.csv\")\n",
    "    task4_dataset_csv_file_name = \"task4_dataset.csv\"\n",
    "    task4_dataset_cols = [\"age\",\"job\",\"marital\",\"education\",\"loan\",\"y\"]\n",
    "    dataset = bank[task4_dataset_cols]\n",
    "    dataset.to_csv(task4_dataset_csv_file_name)\n",
    "    print(\"dataset saved\")\n",
    "    # reads data, excluding the row number\n",
    "    dataset = pd.read_csv(task4_dataset_csv_file_name)[task4_dataset_cols]\n",
    "\n",
    "    # setting X\n",
    "    X = dataset[[\"age\",\"job\",\"marital\",\"education\",\"loan\"]]\n",
    "    X_catg_cols = [\"job\",\"marital\",\"education\",\"loan\"]\n",
    "\n",
    "    # encoding X\n",
    "    le = LabelEncoder()\n",
    "    X[X_catg_cols] = X[X_catg_cols].apply(lambda col: le.fit_transform(col))\n",
    "    print(dataset)\n",
    "    print(X)\n",
    "    amount = int(len(dataset.index)/25)\n",
    "    X = X.head(amount)\n",
    "    print(len(dataset.index))\n",
    "    print(len(X.index))\n",
    "\n",
    "    # setting y\n",
    "\n",
    "    y = dataset['y']\n",
    "    y = y.head(amount)\n",
    "    \n",
    "    # setting models\n",
    "    models = []\n",
    "    models.append(('KNN', KNeighborsClassifier()))\n",
    "    models.append(('CART', DecisionTreeClassifier()))\n",
    "    models.append(('NB', GaussianNB()))\n",
    "    models.append(('SVM', SVC(gamma='auto')))\n",
    "    models.append(('RF', RandomForestClassifier(max_depth=2, random_state=0)))\n",
    "    # models.append(('LR', LogisticRegression(solver='liblinear', multi_class='ovr')))\n",
    "\n",
    "    print(models)\n",
    "    \n",
    "    #cross validation\n",
    "    results = []\n",
    "    names = []\n",
    "    results_mean = []\n",
    "    results_std = []\n",
    "    for name, model in models:\n",
    "        kfold = StratifiedKFold(n_splits=10, random_state=1)\n",
    "        cv_results = cross_val_score(model, X, y, cv=kfold, scoring='accuracy')\n",
    "        results.append(cv_results)\n",
    "        names.append(name)\n",
    "        results_mean.append(cv_results.mean())\n",
    "        results_std.append(cv_results.std())\n",
    "        print('%s: %f (%f)' % (name, cv_results.mean(), cv_results.std()))\n",
    "\n",
    "        \n",
    "    \n",
    "    plt.bar(names, results_mean)\n",
    "    plt.xlabel('models')\n",
    "    plt.ylabel('accuracy score')\n",
    "    plt.title('The accuracy score for models')\n",
    "    plt.show()\n",
    "\n",
    "    plt.bar(names, results_std)\n",
    "    plt.xlabel('models')\n",
    "    plt.ylabel('standard deviation')\n",
    "    plt.title('The standard deviation for models')\n",
    "    plt.show()\n",
    "\n",
    "    print(\"It seems DecisionTreeClassifier is the worst\")\n",
    "    print(\"SVM is very slow to fit\")\n",
    "    print(\"KNeighborsClassifier, GaussianNB or RandomForestClassifier are good depending on what you want to do\")\n",
    "    \n",
    "    \n",
    "    print(\"------end task4------\")\n",
    "    \n",
    "task4()"
   ]
  },
  {
   "cell_type": "code",
   "execution_count": 47,
   "metadata": {},
   "outputs": [
    {
     "name": "stdout",
     "output_type": "stream",
     "text": [
      "--------task5--------\n",
      "dataset saved\n",
      "       bank_arg1  bank_arg2\n",
      "0           0.15       0.18\n",
      "1           0.17       0.13\n",
      "2           0.38       0.20\n",
      "3           0.15       0.13\n",
      "4           0.17       0.12\n",
      "...          ...        ...\n",
      "45206       0.52       0.40\n",
      "45207       0.55       0.36\n",
      "45208       0.60       0.31\n",
      "45209       0.17       0.18\n",
      "45210       0.10       0.17\n",
      "\n",
      "[45211 rows x 2 columns]\n",
      "[0 0 0 ... 0 0 0]\n"
     ]
    },
    {
     "data": {
      "image/png": "[encoded data removed]",
      "text/plain": [
       "<Figure size 432x288 with 1 Axes>"
      ]
     },
     "metadata": {
      "needs_background": "light"
     },
     "output_type": "display_data"
    },
    {
     "name": "stdout",
     "output_type": "stream",
     "text": [
      "[1 1 0 ... 0 1 1]\n"
     ]
    },
    {
     "data": {
      "image/png": "[encoded data removed]",
      "text/plain": [
       "<Figure size 432x288 with 1 Axes>"
      ]
     },
     "metadata": {
      "needs_background": "light"
     },
     "output_type": "display_data"
    },
    {
     "name": "stdout",
     "output_type": "stream",
     "text": [
      "[1 1 2 ... 0 1 1]\n"
     ]
    },
    {
     "data": {
      "image/png": "[encoded data removed]",
      "text/plain": [
       "<Figure size 432x288 with 1 Axes>"
      ]
     },
     "metadata": {
      "needs_background": "light"
     },
     "output_type": "display_data"
    },
    {
     "name": "stdout",
     "output_type": "stream",
     "text": [
      "[0 2 3 ... 1 0 0]\n"
     ]
    },
    {
     "data": {
      "image/png": "[encoded data removed]",
      "text/plain": [
       "<Figure size 432x288 with 1 Axes>"
      ]
     },
     "metadata": {
      "needs_background": "light"
     },
     "output_type": "display_data"
    },
    {
     "name": "stdout",
     "output_type": "stream",
     "text": [
      "[0 4 2 ... 3 0 0]\n"
     ]
    },
    {
     "data": {
      "image/png": "[encoded data removed]",
      "text/plain": [
       "<Figure size 432x288 with 1 Axes>"
      ]
     },
     "metadata": {
      "needs_background": "light"
     },
     "output_type": "display_data"
    },
    {
     "name": "stdout",
     "output_type": "stream",
     "text": [
      "number of buckets: 4\n"
     ]
    },
    {
     "data": {
      "image/png": "[encoded data removed]",
      "text/plain": [
       "<Figure size 432x288 with 1 Axes>"
      ]
     },
     "metadata": {
      "needs_background": "light"
     },
     "output_type": "display_data"
    },
    {
     "name": "stdout",
     "output_type": "stream",
     "text": [
      "------end task5------\n"
     ]
    }
   ],
   "source": [
    "# def task5():\n",
    "print(\"--------task5--------\")\n",
    "\n",
    "#creates data set\n",
    "\n",
    "bank = pd.read_csv(\"bank.csv\")\n",
    "task5_dataset_csv_file_name = \"task5_dataset.csv\"\n",
    "task5_dataset_cols = ['bank_arg1',\"bank_arg2\"]\n",
    "dataset = bank[task5_dataset_cols]\n",
    "dataset.to_csv(task5_dataset_csv_file_name)\n",
    "print(\"dataset saved\")\n",
    "\n",
    "dataset = pd.read_csv(task5_dataset_csv_file_name)[task5_dataset_cols]\n",
    "\n",
    "print(dataset)\n",
    "\n",
    "\n",
    "\n",
    "\n",
    "\n",
    "X = temp_dataset\n",
    "Sum_of_squared_distances = []\n",
    "\n",
    "colours = ['b', 'g', 'c', 'y', 'v']\n",
    "markers = ['o', 'v', 's']\n",
    "\n",
    "\n",
    "K = range(1,6)\n",
    "for k in K:\n",
    "    km = KMeans(n_clusters=k)\n",
    "    km = km.fit(dataset)\n",
    "    \n",
    "    cl_centers = km.cluster_centers_\n",
    "    km_labels = km.labels_\n",
    "    print(km_labels)\n",
    "#     for i, l in enumerate(km.labels_):\n",
    "        \n",
    "#         plt.scatter(dataset[\"bank_arg1\"].get(i), dataset[\"bank_arg2\"].get(i), color=colours[l], marker=markers[l])\n",
    "        \n",
    "    plt.scatter(dataset[\"bank_arg1\"], dataset[\"bank_arg2\"],c=km.labels_.astype(float))\n",
    "    plt.scatter(cl_centers[:, 0], cl_centers[:, 1], c='red', marker='x')\n",
    "    plt.xlabel('bank_arg1')\n",
    "    plt.ylabel('bank_arg2')\n",
    "    plt.title('scatter plot of bank_arg1 and bank_arg2 in 4 buckets')\n",
    "    plt.show()\n",
    "    Sum_of_squared_distances.append(km.inertia_)\n",
    "\n",
    "print(\"number of buckets:\", number_of_buckets)\n",
    "plot_title = 'Elbow Method For Optimal k with number of buckets as ' + str(number_of_buckets)\n",
    "plt.plot(K, Sum_of_squared_distances, 'x-')\n",
    "plt.xlabel('k the number of clusters')\n",
    "plt.ylabel('Sum of the squared distances')\n",
    "plt.title(plot_title)\n",
    "plt.legend([\"sum of sq dist for different k\"])\n",
    "plt.show()\n",
    "\n",
    "#     clf = SVC()\n",
    "#     clf.set_params(kernel='linear')\n",
    "#     clf.fit(X.head(100),y.head(100))\n",
    "#     y_predictions = pd.Series(clf.predict(X.head(100)))\n",
    "#     score = accuracy_score(y.head(100), y_predictions)\n",
    "#     scores.append(score)\n",
    "#     print(scores)\n",
    "\n",
    "print(\"------end task5------\")\n",
    "# task5()"
   ]
  },
  {
   "cell_type": "code",
   "execution_count": null,
   "metadata": {},
   "outputs": [],
   "source": []
  }
 ],
 "metadata": {
  "kernelspec": {
   "display_name": "Python 3",
   "language": "python",
   "name": "python3"
  },
  "language_info": {
   "codemirror_mode": {
    "name": "ipython",
    "version": 3
   },
   "file_extension": ".py",
   "mimetype": "text/x-python",
   "name": "python",
   "nbconvert_exporter": "python",
   "pygments_lexer": "ipython3",
   "version": "3.6.9"
  },
  "pycharm": {
   "stem_cell": {
    "cell_type": "raw",
    "metadata": {
     "collapsed": false
    },
    "source": []
   }
  },
  "toc": {
   "base_numbering": 1,
   "nav_menu": {},
   "number_sections": true,
   "sideBar": true,
   "skip_h1_title": false,
   "title_cell": "Table of Contents",
   "title_sidebar": "Contents",
   "toc_cell": false,
   "toc_position": {},
   "toc_section_display": true,
   "toc_window_display": false
  },
  "varInspector": {
   "cols": {
    "lenName": 16,
    "lenType": 16,
    "lenVar": 40
   },
   "kernels_config": {
    "python": {
     "delete_cmd_postfix": "",
     "delete_cmd_prefix": "del ",
     "library": "var_list.py",
     "varRefreshCmd": "print(var_dic_list())"
    },
    "r": {
     "delete_cmd_postfix": ") ",
     "delete_cmd_prefix": "rm(",
     "library": "var_list.r",
     "varRefreshCmd": "cat(var_dic_list()) "
    }
   },
   "types_to_exclude": [
    "module",
    "function",
    "builtin_function_or_method",
    "instance",
    "_Feature"
   ],
   "window_display": false
  }
 },
 "nbformat": 4,
 "nbformat_minor": 2
}
