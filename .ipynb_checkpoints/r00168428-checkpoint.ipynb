{
 "cells": [
  {
   "cell_type": "code",
   "execution_count": 1,
   "metadata": {},
   "outputs": [
    {
     "name": "stdout",
     "output_type": "stream",
     "text": [
      "Name: Daniel Ashcroft \n",
      "Student ID: r00168428\n"
     ]
    },
    {
     "data": {
      "text/plain": [
       "' Your Name and Your student ID: \\nDaniel Ashcroft\\nr00168428\\n'"
      ]
     },
     "execution_count": 1,
     "metadata": {},
     "output_type": "execute_result"
    }
   ],
   "source": [
    "\"\"\"\n",
    "author Daniel\n",
    "\"\"\"\n",
    "from pandas import read_csv\n",
    "import numpy as np\n",
    "from pandas.plotting import scatter_matrix\n",
    "from matplotlib import pyplot\n",
    "from sklearn.model_selection import train_test_split\n",
    "from sklearn.model_selection import cross_val_score\n",
    "from sklearn.model_selection import StratifiedKFold\n",
    "from sklearn.metrics import classification_report\n",
    "from sklearn.metrics import confusion_matrix\n",
    "from sklearn.metrics import accuracy_score\n",
    "from sklearn.linear_model import LogisticRegression\n",
    "from sklearn.tree import DecisionTreeClassifier\n",
    "from sklearn.neighbors import KNeighborsClassifier\n",
    "from sklearn.discriminant_analysis import LinearDiscriminantAnalysis\n",
    "from sklearn.naive_bayes import GaussianNB\n",
    "from sklearn.svm import SVC\n",
    "from sklearn.tree import DecisionTreeClassifier\n",
    "from sklearn.preprocessing import LabelEncoder\n",
    "from io import StringIO\n",
    "from sklearn import linear_model\n",
    "import pandas as pd\n",
    "from sklearn.cluster import KMeans\n",
    "from sklearn.metrics import accuracy_score\n",
    "from sklearn.metrics import mean_squared_error\n",
    "import matplotlib.pyplot as plt\n",
    "\n",
    "print(\"Name: Daniel Ashcroft \\nStudent ID: r00168428\")\n",
    "#Note: Not all the libararies above are necessarily needed for this project and not all \n",
    "#the libraries you need for this project are necessarily listed above.\n",
    "\n",
    "\n",
    "\"\"\" Your Name and Your student ID: \n",
    "Daniel Ashcroft\n",
    "r00168428\n",
    "\"\"\""
   ]
  },
  {
   "cell_type": "code",
   "execution_count": 11,
   "metadata": {},
   "outputs": [
    {
     "name": "stdout",
     "output_type": "stream",
     "text": [
      "--------task1--------\n",
      "       Unnamed: 0  age           job poutcome  balance default    y\n",
      "0               0   58    management  unknown     2143      no   no\n",
      "1               1   44    technician  unknown       29      no   no\n",
      "2               2   33  entrepreneur  unknown        2      no   no\n",
      "3               3   47   blue-collar  unknown     1506      no   no\n",
      "4               4   33       unknown  unknown        1      no   no\n",
      "...           ...  ...           ...      ...      ...     ...  ...\n",
      "45206       45206   51    technician  unknown      825      no  yes\n",
      "45207       45207   71       retired  unknown     1729      no  yes\n",
      "45208       45208   72       retired  success     5715      no  yes\n",
      "45209       45209   57   blue-collar  unknown      668      no   no\n",
      "45210       45210   37  entrepreneur    other     2971      no   no\n",
      "\n",
      "[45211 rows x 7 columns]\n",
      "       Unnamed: 0  age           job poutcome  balance default loan\n",
      "0               0   58    management  unknown     2143      no   no\n",
      "1               1   44    technician  unknown       29      no   no\n",
      "2               2   33  entrepreneur  unknown        2      no  yes\n",
      "3               3   47   blue-collar  unknown     1506      no   no\n",
      "4               4   33       unknown  unknown        1      no   no\n",
      "...           ...  ...           ...      ...      ...     ...  ...\n",
      "45206       45206   51    technician  unknown      825      no   no\n",
      "45207       45207   71       retired  unknown     1729      no   no\n",
      "45208       45208   72       retired  success     5715      no   no\n",
      "45209       45209   57   blue-collar  unknown      668      no   no\n",
      "45210       45210   37  entrepreneur    other     2971      no   no\n",
      "\n",
      "[45211 rows x 7 columns]\n",
      "       age  job  poutcome  balance  default\n",
      "0       58    4         3     2143        0\n",
      "1       44    9         3       29        0\n",
      "2       33    2         3        2        0\n",
      "3       47    1         3     1506        0\n",
      "4       33   11         3        1        0\n",
      "...    ...  ...       ...      ...      ...\n",
      "45206   51    9         3      825        0\n",
      "45207   71    5         3     1729        0\n",
      "45208   72    5         2     5715        0\n",
      "45209   57    1         3      668        0\n",
      "45210   37    2         1     2971        0\n",
      "\n",
      "[45211 rows x 5 columns]\n",
      "0         no\n",
      "1         no\n",
      "2         no\n",
      "3         no\n",
      "4         no\n",
      "        ... \n",
      "45206    yes\n",
      "45207    yes\n",
      "45208    yes\n",
      "45209     no\n",
      "45210     no\n",
      "Name: y, Length: 45211, dtype: object\n",
      "type(Xdateset1.head(5): <class 'pandas.core.frame.DataFrame'>\n"
     ]
    },
    {
     "name": "stderr",
     "output_type": "stream",
     "text": [
      "C:\\Users\\Dashc\\Anaconda3\\envs\\tensorflow\\lib\\site-packages\\pandas\\core\\frame.py:3509: SettingWithCopyWarning: \n",
      "A value is trying to be set on a copy of a slice from a DataFrame.\n",
      "Try using .loc[row_indexer,col_indexer] = value instead\n",
      "\n",
      "See the caveats in the documentation: http://pandas.pydata.org/pandas-docs/stable/user_guide/indexing.html#returning-a-view-versus-a-copy\n",
      "  self[k1] = value[k2]\n"
     ]
    },
    {
     "name": "stdout",
     "output_type": "stream",
     "text": [
      "end task1\n",
      "SVC(C=1.0, cache_size=200, class_weight=None, coef0=0.0,\n",
      "    decision_function_shape='ovr', degree=3, gamma='auto_deprecated',\n",
      "    kernel='rbf', max_iter=-1, probability=False, random_state=None,\n",
      "    shrinking=True, tol=0.001, verbose=False)\n"
     ]
    }
   ],
   "source": [
    "\n",
    "# def task1():\n",
    "#     print(\"--------task1--------\")\n",
    "#     bank = pd.read_csv(\"bank.csv\")\n",
    "#     task1_dataset1_csv_file_name = \"task1_dataset1.csv\"\n",
    "#     task1_dataset2_csv_file_name = \"task1_dataset2.csv\"\n",
    "#     # creates and saves the first data set\n",
    "# #     dataset1 = bank[[\"age\",\"job\",\"poutcome\",\"balance\",\"default\",\"y\"]]  \n",
    "# #     dataset1.to_csv(task1_dataset1_csv_file_name)\n",
    "# #     print(\"dataset1 saved to file as\", task1_dataset1_csv_file_name)\n",
    "\n",
    "#     # creates and saves the second data set\n",
    "# #     dataset2 = bank[[\"age\",\"job\",\"poutcome\",\"balance\",\"default\",\"loan\"]]\n",
    "# #     dataset2.to_csv(task1_dataset2_csv_file_name)\n",
    "# #     print(\"dataset2 saved to file as\", task1_dataset2_csv_file_name)\n",
    "    \n",
    "    \n",
    "    \n",
    "#     dataset1 = pd.read_csv(task1_dataset1_csv_file_name)\n",
    "#     print(dataset1)\n",
    "#     dataset2 = pd.read_csv(task1_dataset2_csv_file_name)\n",
    "#     print(dataset2)\n",
    "    \n",
    "# #     Xdateset1 = dataset1.loc[:, dataset1.columns != 'y']\n",
    "#     Xdataset1_catg_cols = [\"job\",\"poutcome\",\"default\"]\n",
    "#     Xdataset1_cols = [\"age\",\"job\",\"poutcome\",\"balance\",\"default\"]\n",
    "# #     Xdateset1_catg_cols = dataset1[dataset1_catg_cols]\n",
    "#     Xdateset1 = dataset1[Xdataset1_cols]\n",
    "    \n",
    "#     le = LabelEncoder()\n",
    "    \n",
    "#     # this will encode the data from the columns with categorical data\n",
    "#     Xdateset1[Xdataset1_catg_cols] = Xdateset1[Xdataset1_catg_cols].apply(lambda col: le.fit_transform(col))\n",
    "#     ydataset1 = dataset1['y']\n",
    "#     print(Xdateset1)\n",
    "#     print(ydataset1)\n",
    "    \n",
    "#     Xdateset100 = Xdateset1\n",
    "    \n",
    "#     clf = SVC()\n",
    "#     clf.set_params(kernel='linear')\n",
    "#     print(\"type(Xdateset1.head(5):\",type(Xdateset1.head(5)))\n",
    "    \n",
    "#     clf.fit(Xdateset1.head(100),ydataset1.head(100))\n",
    "    \n",
    "#     myclf =clf\n",
    "    \n",
    "    \n",
    "#     print(\"end task1\")\n",
    "# #     myclf = clf\n",
    "# #     print(clf.predict(Xdateset1.head()))\n",
    "    \n",
    "    \n",
    "    \n",
    "    \n",
    "    \n",
    "# task1()\n",
    "\n",
    "# print(myclf)"
   ]
  },
  {
   "cell_type": "code",
   "execution_count": 75,
   "metadata": {},
   "outputs": [
    {
     "name": "stdout",
     "output_type": "stream",
     "text": [
      "--------task1--------\n",
      "       Unnamed: 0  age           job poutcome  balance default    y\n",
      "0               0   58    management  unknown     2143      no   no\n",
      "1               1   44    technician  unknown       29      no   no\n",
      "2               2   33  entrepreneur  unknown        2      no   no\n",
      "3               3   47   blue-collar  unknown     1506      no   no\n",
      "4               4   33       unknown  unknown        1      no   no\n",
      "...           ...  ...           ...      ...      ...     ...  ...\n",
      "45206       45206   51    technician  unknown      825      no  yes\n",
      "45207       45207   71       retired  unknown     1729      no  yes\n",
      "45208       45208   72       retired  success     5715      no  yes\n",
      "45209       45209   57   blue-collar  unknown      668      no   no\n",
      "45210       45210   37  entrepreneur    other     2971      no   no\n",
      "\n",
      "[45211 rows x 7 columns]\n",
      "       Unnamed: 0  age           job poutcome  balance default loan\n",
      "0               0   58    management  unknown     2143      no   no\n",
      "1               1   44    technician  unknown       29      no   no\n",
      "2               2   33  entrepreneur  unknown        2      no  yes\n",
      "3               3   47   blue-collar  unknown     1506      no   no\n",
      "4               4   33       unknown  unknown        1      no   no\n",
      "...           ...  ...           ...      ...      ...     ...  ...\n",
      "45206       45206   51    technician  unknown      825      no   no\n",
      "45207       45207   71       retired  unknown     1729      no   no\n",
      "45208       45208   72       retired  success     5715      no   no\n",
      "45209       45209   57   blue-collar  unknown      668      no   no\n",
      "45210       45210   37  entrepreneur    other     2971      no   no\n",
      "\n",
      "[45211 rows x 7 columns]\n",
      "       age  job  poutcome  balance  default\n",
      "0       58    4         3     2143        0\n",
      "1       44    9         3       29        0\n",
      "2       33    2         3        2        0\n",
      "3       47    1         3     1506        0\n",
      "4       33   11         3        1        0\n",
      "...    ...  ...       ...      ...      ...\n",
      "45206   51    9         3      825        0\n",
      "45207   71    5         3     1729        0\n",
      "45208   72    5         2     5715        0\n",
      "45209   57    1         3      668        0\n",
      "45210   37    2         1     2971        0\n",
      "\n",
      "[45211 rows x 5 columns]\n",
      "0         no\n",
      "1         no\n",
      "2         no\n",
      "3         no\n",
      "4         no\n",
      "        ... \n",
      "45206    yes\n",
      "45207    yes\n",
      "45208    yes\n",
      "45209     no\n",
      "45210     no\n",
      "Name: y, Length: 45211, dtype: object\n",
      "type(Xdateset1.head(5): <class 'pandas.core.frame.DataFrame'>\n"
     ]
    },
    {
     "name": "stderr",
     "output_type": "stream",
     "text": [
      "C:\\Users\\Dashc\\Anaconda3\\envs\\tensorflow\\lib\\site-packages\\pandas\\core\\frame.py:3509: SettingWithCopyWarning: \n",
      "A value is trying to be set on a copy of a slice from a DataFrame.\n",
      "Try using .loc[row_indexer,col_indexer] = value instead\n",
      "\n",
      "See the caveats in the documentation: http://pandas.pydata.org/pandas-docs/stable/user_guide/indexing.html#returning-a-view-versus-a-copy\n",
      "  self[k1] = value[k2]\n"
     ]
    },
    {
     "name": "stdout",
     "output_type": "stream",
     "text": [
      "end task1\n"
     ]
    }
   ],
   "source": [
    "\n",
    "# def task1():\n",
    "print(\"--------task1--------\")\n",
    "bank = pd.read_csv(\"bank.csv\")\n",
    "task1_dataset1_csv_file_name = \"task1_dataset1.csv\"\n",
    "task1_dataset2_csv_file_name = \"task1_dataset2.csv\"\n",
    "# creates and saves the first data set\n",
    "#     dataset1 = bank[[\"age\",\"job\",\"poutcome\",\"balance\",\"default\",\"y\"]]  \n",
    "#     dataset1.to_csv(task1_dataset1_csv_file_name)\n",
    "#     print(\"dataset1 saved to file as\", task1_dataset1_csv_file_name)\n",
    "\n",
    "# creates and saves the second data set\n",
    "#     dataset2 = bank[[\"age\",\"job\",\"poutcome\",\"balance\",\"default\",\"loan\"]]\n",
    "#     dataset2.to_csv(task1_dataset2_csv_file_name)\n",
    "#     print(\"dataset2 saved to file as\", task1_dataset2_csv_file_name)\n",
    "\n",
    "\n",
    "\n",
    "dataset1 = pd.read_csv(task1_dataset1_csv_file_name)\n",
    "print(dataset1)\n",
    "dataset2 = pd.read_csv(task1_dataset2_csv_file_name)\n",
    "print(dataset2)\n",
    "\n",
    "#     Xdateset1 = dataset1.loc[:, dataset1.columns != 'y']\n",
    "Xdataset1_catg_cols = [\"job\",\"poutcome\",\"default\"]\n",
    "Xdataset1_cols = [\"age\",\"job\",\"poutcome\",\"balance\",\"default\"]\n",
    "#     Xdateset1_catg_cols = dataset1[dataset1_catg_cols]\n",
    "Xdateset1 = dataset1[Xdataset1_cols]\n",
    "\n",
    "le = LabelEncoder()\n",
    "\n",
    "# this will encode the data from the columns with categorical data\n",
    "Xdateset1[Xdataset1_catg_cols] = Xdateset1[Xdataset1_catg_cols].apply(lambda col: le.fit_transform(col))\n",
    "ydataset1 = dataset1['y']\n",
    "print(Xdateset1)\n",
    "print(ydataset1)\n",
    "\n",
    "Xdateset100 = Xdateset1\n",
    "\n",
    "clf = SVC()\n",
    "clf.set_params(kernel='linear')\n",
    "print(\"type(Xdateset1.head(5):\",type(Xdateset1.head(5)))\n",
    "\n",
    "clf.fit(Xdateset1.head(100),ydataset1.head(100))\n",
    "\n",
    "myclf =clf\n",
    "\n",
    "\n",
    "print(\"end task1\")\n",
    "#     myclf = clf\n",
    "#     print(clf.predict(Xdateset1.head()))\n",
    "\n",
    "\n",
    "\n",
    "\n",
    "    \n",
    "# task1()\n",
    "\n",
    "# print(myclf)"
   ]
  },
  {
   "cell_type": "code",
   "execution_count": 89,
   "metadata": {},
   "outputs": [
    {
     "data": {
      "text/plain": [
       "0.978"
      ]
     },
     "execution_count": 89,
     "metadata": {},
     "output_type": "execute_result"
    }
   ],
   "source": [
    "predictions = myclf.predict(Xdateset1.head(500))\n",
    "ppred = pd.Series(predictions)\n",
    "test_labels = ydataset1.head(500)\n",
    "\n",
    "accuracy_score(test_labels,ppred)\n",
    "#it only gives  NOs"
   ]
  }
 ],
 "metadata": {
  "kernelspec": {
   "display_name": "Python 3",
   "language": "python",
   "name": "python3"
  },
  "language_info": {
   "codemirror_mode": {
    "name": "ipython",
    "version": 3
   },
   "file_extension": ".py",
   "mimetype": "text/x-python",
   "name": "python",
   "nbconvert_exporter": "python",
   "pygments_lexer": "ipython3",
   "version": "3.6.9"
  },
  "pycharm": {
   "stem_cell": {
    "cell_type": "raw",
    "metadata": {
     "collapsed": false
    },
    "source": []
   }
  },
  "toc": {
   "base_numbering": 1,
   "nav_menu": {},
   "number_sections": true,
   "sideBar": true,
   "skip_h1_title": false,
   "title_cell": "Table of Contents",
   "title_sidebar": "Contents",
   "toc_cell": false,
   "toc_position": {},
   "toc_section_display": true,
   "toc_window_display": false
  },
  "varInspector": {
   "cols": {
    "lenName": 16,
    "lenType": 16,
    "lenVar": 40
   },
   "kernels_config": {
    "python": {
     "delete_cmd_postfix": "",
     "delete_cmd_prefix": "del ",
     "library": "var_list.py",
     "varRefreshCmd": "print(var_dic_list())"
    },
    "r": {
     "delete_cmd_postfix": ") ",
     "delete_cmd_prefix": "rm(",
     "library": "var_list.r",
     "varRefreshCmd": "cat(var_dic_list()) "
    }
   },
   "types_to_exclude": [
    "module",
    "function",
    "builtin_function_or_method",
    "instance",
    "_Feature"
   ],
   "window_display": false
  }
 },
 "nbformat": 4,
 "nbformat_minor": 2
}
